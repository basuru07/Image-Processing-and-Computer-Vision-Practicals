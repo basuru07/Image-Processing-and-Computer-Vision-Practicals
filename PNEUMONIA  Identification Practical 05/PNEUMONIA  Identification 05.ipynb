{
 "cells": [
  {
   "cell_type": "code",
   "execution_count": 61,
   "id": "61c14c8b",
   "metadata": {},
   "outputs": [
    {
     "name": "stdout",
     "output_type": "stream",
     "text": [
      "Requirement already satisfied: tensorflow in c:\\users\\basuru yasaruwan\\contacts\\desktop\\ipcv practicals\\practical 03\\im02\\lib\\site-packages (2.15.0)\n",
      "Requirement already satisfied: tensorflow-intel==2.15.0 in c:\\users\\basuru yasaruwan\\contacts\\desktop\\ipcv practicals\\practical 03\\im02\\lib\\site-packages (from tensorflow) (2.15.0)\n",
      "Requirement already satisfied: absl-py>=1.0.0 in c:\\users\\basuru yasaruwan\\contacts\\desktop\\ipcv practicals\\practical 03\\im02\\lib\\site-packages (from tensorflow-intel==2.15.0->tensorflow) (2.1.0)\n",
      "Requirement already satisfied: astunparse>=1.6.0 in c:\\users\\basuru yasaruwan\\contacts\\desktop\\ipcv practicals\\practical 03\\im02\\lib\\site-packages (from tensorflow-intel==2.15.0->tensorflow) (1.6.3)\n",
      "Requirement already satisfied: flatbuffers>=23.5.26 in c:\\users\\basuru yasaruwan\\contacts\\desktop\\ipcv practicals\\practical 03\\im02\\lib\\site-packages (from tensorflow-intel==2.15.0->tensorflow) (23.5.26)\n",
      "Requirement already satisfied: gast!=0.5.0,!=0.5.1,!=0.5.2,>=0.2.1 in c:\\users\\basuru yasaruwan\\contacts\\desktop\\ipcv practicals\\practical 03\\im02\\lib\\site-packages (from tensorflow-intel==2.15.0->tensorflow) (0.5.4)\n",
      "Requirement already satisfied: google-pasta>=0.1.1 in c:\\users\\basuru yasaruwan\\contacts\\desktop\\ipcv practicals\\practical 03\\im02\\lib\\site-packages (from tensorflow-intel==2.15.0->tensorflow) (0.2.0)\n",
      "Requirement already satisfied: h5py>=2.9.0 in c:\\users\\basuru yasaruwan\\contacts\\desktop\\ipcv practicals\\practical 03\\im02\\lib\\site-packages (from tensorflow-intel==2.15.0->tensorflow) (3.10.0)\n",
      "Requirement already satisfied: libclang>=13.0.0 in c:\\users\\basuru yasaruwan\\contacts\\desktop\\ipcv practicals\\practical 03\\im02\\lib\\site-packages (from tensorflow-intel==2.15.0->tensorflow) (16.0.6)\n",
      "Requirement already satisfied: ml-dtypes~=0.2.0 in c:\\users\\basuru yasaruwan\\contacts\\desktop\\ipcv practicals\\practical 03\\im02\\lib\\site-packages (from tensorflow-intel==2.15.0->tensorflow) (0.2.0)\n",
      "Requirement already satisfied: numpy<2.0.0,>=1.23.5 in c:\\users\\basuru yasaruwan\\contacts\\desktop\\ipcv practicals\\practical 03\\im02\\lib\\site-packages (from tensorflow-intel==2.15.0->tensorflow) (1.26.4)\n",
      "Requirement already satisfied: opt-einsum>=2.3.2 in c:\\users\\basuru yasaruwan\\contacts\\desktop\\ipcv practicals\\practical 03\\im02\\lib\\site-packages (from tensorflow-intel==2.15.0->tensorflow) (3.3.0)\n",
      "Requirement already satisfied: packaging in c:\\users\\basuru yasaruwan\\contacts\\desktop\\ipcv practicals\\practical 03\\im02\\lib\\site-packages (from tensorflow-intel==2.15.0->tensorflow) (23.2)\n",
      "Requirement already satisfied: protobuf!=4.21.0,!=4.21.1,!=4.21.2,!=4.21.3,!=4.21.4,!=4.21.5,<5.0.0dev,>=3.20.3 in c:\\users\\basuru yasaruwan\\contacts\\desktop\\ipcv practicals\\practical 03\\im02\\lib\\site-packages (from tensorflow-intel==2.15.0->tensorflow) (4.23.4)\n",
      "Requirement already satisfied: setuptools in c:\\users\\basuru yasaruwan\\contacts\\desktop\\ipcv practicals\\practical 03\\im02\\lib\\site-packages (from tensorflow-intel==2.15.0->tensorflow) (65.5.0)\n",
      "Requirement already satisfied: six>=1.12.0 in c:\\users\\basuru yasaruwan\\contacts\\desktop\\ipcv practicals\\practical 03\\im02\\lib\\site-packages (from tensorflow-intel==2.15.0->tensorflow) (1.16.0)\n",
      "Requirement already satisfied: termcolor>=1.1.0 in c:\\users\\basuru yasaruwan\\contacts\\desktop\\ipcv practicals\\practical 03\\im02\\lib\\site-packages (from tensorflow-intel==2.15.0->tensorflow) (2.4.0)\n",
      "Requirement already satisfied: typing-extensions>=3.6.6 in c:\\users\\basuru yasaruwan\\contacts\\desktop\\ipcv practicals\\practical 03\\im02\\lib\\site-packages (from tensorflow-intel==2.15.0->tensorflow) (4.9.0)\n",
      "Requirement already satisfied: wrapt<1.15,>=1.11.0 in c:\\users\\basuru yasaruwan\\contacts\\desktop\\ipcv practicals\\practical 03\\im02\\lib\\site-packages (from tensorflow-intel==2.15.0->tensorflow) (1.14.1)\n",
      "Requirement already satisfied: tensorflow-io-gcs-filesystem>=0.23.1 in c:\\users\\basuru yasaruwan\\contacts\\desktop\\ipcv practicals\\practical 03\\im02\\lib\\site-packages (from tensorflow-intel==2.15.0->tensorflow) (0.31.0)\n",
      "Requirement already satisfied: grpcio<2.0,>=1.24.3 in c:\\users\\basuru yasaruwan\\contacts\\desktop\\ipcv practicals\\practical 03\\im02\\lib\\site-packages (from tensorflow-intel==2.15.0->tensorflow) (1.60.1)\n",
      "Requirement already satisfied: tensorboard<2.16,>=2.15 in c:\\users\\basuru yasaruwan\\contacts\\desktop\\ipcv practicals\\practical 03\\im02\\lib\\site-packages (from tensorflow-intel==2.15.0->tensorflow) (2.15.1)\n",
      "Requirement already satisfied: tensorflow-estimator<2.16,>=2.15.0 in c:\\users\\basuru yasaruwan\\contacts\\desktop\\ipcv practicals\\practical 03\\im02\\lib\\site-packages (from tensorflow-intel==2.15.0->tensorflow) (2.15.0)\n",
      "Requirement already satisfied: keras<2.16,>=2.15.0 in c:\\users\\basuru yasaruwan\\contacts\\desktop\\ipcv practicals\\practical 03\\im02\\lib\\site-packages (from tensorflow-intel==2.15.0->tensorflow) (2.15.0)\n",
      "Requirement already satisfied: wheel<1.0,>=0.23.0 in c:\\users\\basuru yasaruwan\\contacts\\desktop\\ipcv practicals\\practical 03\\im02\\lib\\site-packages (from astunparse>=1.6.0->tensorflow-intel==2.15.0->tensorflow) (0.42.0)\n",
      "Requirement already satisfied: google-auth<3,>=1.6.3 in c:\\users\\basuru yasaruwan\\contacts\\desktop\\ipcv practicals\\practical 03\\im02\\lib\\site-packages (from tensorboard<2.16,>=2.15->tensorflow-intel==2.15.0->tensorflow) (2.27.0)\n",
      "Requirement already satisfied: google-auth-oauthlib<2,>=0.5 in c:\\users\\basuru yasaruwan\\contacts\\desktop\\ipcv practicals\\practical 03\\im02\\lib\\site-packages (from tensorboard<2.16,>=2.15->tensorflow-intel==2.15.0->tensorflow) (1.2.0)\n",
      "Requirement already satisfied: markdown>=2.6.8 in c:\\users\\basuru yasaruwan\\contacts\\desktop\\ipcv practicals\\practical 03\\im02\\lib\\site-packages (from tensorboard<2.16,>=2.15->tensorflow-intel==2.15.0->tensorflow) (3.5.2)\n",
      "Requirement already satisfied: requests<3,>=2.21.0 in c:\\users\\basuru yasaruwan\\contacts\\desktop\\ipcv practicals\\practical 03\\im02\\lib\\site-packages (from tensorboard<2.16,>=2.15->tensorflow-intel==2.15.0->tensorflow) (2.31.0)\n",
      "Requirement already satisfied: tensorboard-data-server<0.8.0,>=0.7.0 in c:\\users\\basuru yasaruwan\\contacts\\desktop\\ipcv practicals\\practical 03\\im02\\lib\\site-packages (from tensorboard<2.16,>=2.15->tensorflow-intel==2.15.0->tensorflow) (0.7.2)\n",
      "Requirement already satisfied: werkzeug>=1.0.1 in c:\\users\\basuru yasaruwan\\contacts\\desktop\\ipcv practicals\\practical 03\\im02\\lib\\site-packages (from tensorboard<2.16,>=2.15->tensorflow-intel==2.15.0->tensorflow) (3.0.1)\n",
      "Requirement already satisfied: cachetools<6.0,>=2.0.0 in c:\\users\\basuru yasaruwan\\contacts\\desktop\\ipcv practicals\\practical 03\\im02\\lib\\site-packages (from google-auth<3,>=1.6.3->tensorboard<2.16,>=2.15->tensorflow-intel==2.15.0->tensorflow) (5.3.2)\n",
      "Requirement already satisfied: pyasn1-modules>=0.2.1 in c:\\users\\basuru yasaruwan\\contacts\\desktop\\ipcv practicals\\practical 03\\im02\\lib\\site-packages (from google-auth<3,>=1.6.3->tensorboard<2.16,>=2.15->tensorflow-intel==2.15.0->tensorflow) (0.3.0)\n",
      "Requirement already satisfied: rsa<5,>=3.1.4 in c:\\users\\basuru yasaruwan\\contacts\\desktop\\ipcv practicals\\practical 03\\im02\\lib\\site-packages (from google-auth<3,>=1.6.3->tensorboard<2.16,>=2.15->tensorflow-intel==2.15.0->tensorflow) (4.9)\n",
      "Requirement already satisfied: requests-oauthlib>=0.7.0 in c:\\users\\basuru yasaruwan\\contacts\\desktop\\ipcv practicals\\practical 03\\im02\\lib\\site-packages (from google-auth-oauthlib<2,>=0.5->tensorboard<2.16,>=2.15->tensorflow-intel==2.15.0->tensorflow) (1.3.1)\n",
      "Requirement already satisfied: charset-normalizer<4,>=2 in c:\\users\\basuru yasaruwan\\contacts\\desktop\\ipcv practicals\\practical 03\\im02\\lib\\site-packages (from requests<3,>=2.21.0->tensorboard<2.16,>=2.15->tensorflow-intel==2.15.0->tensorflow) (3.3.2)\n",
      "Requirement already satisfied: idna<4,>=2.5 in c:\\users\\basuru yasaruwan\\contacts\\desktop\\ipcv practicals\\practical 03\\im02\\lib\\site-packages (from requests<3,>=2.21.0->tensorboard<2.16,>=2.15->tensorflow-intel==2.15.0->tensorflow) (3.6)\n",
      "Requirement already satisfied: urllib3<3,>=1.21.1 in c:\\users\\basuru yasaruwan\\contacts\\desktop\\ipcv practicals\\practical 03\\im02\\lib\\site-packages (from requests<3,>=2.21.0->tensorboard<2.16,>=2.15->tensorflow-intel==2.15.0->tensorflow) (2.2.0)\n",
      "Requirement already satisfied: certifi>=2017.4.17 in c:\\users\\basuru yasaruwan\\contacts\\desktop\\ipcv practicals\\practical 03\\im02\\lib\\site-packages (from requests<3,>=2.21.0->tensorboard<2.16,>=2.15->tensorflow-intel==2.15.0->tensorflow) (2024.2.2)\n",
      "Requirement already satisfied: MarkupSafe>=2.1.1 in c:\\users\\basuru yasaruwan\\contacts\\desktop\\ipcv practicals\\practical 03\\im02\\lib\\site-packages (from werkzeug>=1.0.1->tensorboard<2.16,>=2.15->tensorflow-intel==2.15.0->tensorflow) (2.1.5)\n",
      "Requirement already satisfied: pyasn1<0.6.0,>=0.4.6 in c:\\users\\basuru yasaruwan\\contacts\\desktop\\ipcv practicals\\practical 03\\im02\\lib\\site-packages (from pyasn1-modules>=0.2.1->google-auth<3,>=1.6.3->tensorboard<2.16,>=2.15->tensorflow-intel==2.15.0->tensorflow) (0.5.1)\n",
      "Requirement already satisfied: oauthlib>=3.0.0 in c:\\users\\basuru yasaruwan\\contacts\\desktop\\ipcv practicals\\practical 03\\im02\\lib\\site-packages (from requests-oauthlib>=0.7.0->google-auth-oauthlib<2,>=0.5->tensorboard<2.16,>=2.15->tensorflow-intel==2.15.0->tensorflow) (3.2.2)\n",
      "Note: you may need to restart the kernel to use updated packages.\n"
     ]
    },
    {
     "name": "stderr",
     "output_type": "stream",
     "text": [
      "\n",
      "[notice] A new release of pip is available: 23.2.1 -> 24.0\n",
      "[notice] To update, run: C:\\Users\\Basuru Yasaruwan\\Contacts\\Desktop\\IPCV Practicals\\Practical 03\\IM02\\Scripts\\python.exe -m pip install --upgrade pip\n"
     ]
    }
   ],
   "source": [
    "pip install tensorflow"
   ]
  },
  {
   "cell_type": "code",
   "execution_count": 62,
   "id": "76cbaa31",
   "metadata": {},
   "outputs": [
    {
     "name": "stdout",
     "output_type": "stream",
     "text": [
      "Requirement already satisfied: scipy in c:\\users\\basuru yasaruwan\\contacts\\desktop\\ipcv practicals\\practical 03\\im02\\lib\\site-packages (1.12.0)\n",
      "Requirement already satisfied: numpy<1.29.0,>=1.22.4 in c:\\users\\basuru yasaruwan\\contacts\\desktop\\ipcv practicals\\practical 03\\im02\\lib\\site-packages (from scipy) (1.26.4)\n",
      "Note: you may need to restart the kernel to use updated packages.\n"
     ]
    },
    {
     "name": "stderr",
     "output_type": "stream",
     "text": [
      "\n",
      "[notice] A new release of pip is available: 23.2.1 -> 24.0\n",
      "[notice] To update, run: C:\\Users\\Basuru Yasaruwan\\Contacts\\Desktop\\IPCV Practicals\\Practical 03\\IM02\\Scripts\\python.exe -m pip install --upgrade pip\n"
     ]
    }
   ],
   "source": [
    " pip install scipy"
   ]
  },
  {
   "cell_type": "code",
   "execution_count": 60,
   "id": "d6a059e9",
   "metadata": {},
   "outputs": [
    {
     "name": "stdout",
     "output_type": "stream",
     "text": [
      "Requirement already satisfied: matplotlib in c:\\users\\basuru yasaruwan\\contacts\\desktop\\ipcv practicals\\practical 03\\im02\\lib\\site-packages (3.8.2)\n",
      "Requirement already satisfied: contourpy>=1.0.1 in c:\\users\\basuru yasaruwan\\contacts\\desktop\\ipcv practicals\\practical 03\\im02\\lib\\site-packages (from matplotlib) (1.2.0)\n",
      "Requirement already satisfied: cycler>=0.10 in c:\\users\\basuru yasaruwan\\contacts\\desktop\\ipcv practicals\\practical 03\\im02\\lib\\site-packages (from matplotlib) (0.12.1)\n",
      "Requirement already satisfied: fonttools>=4.22.0 in c:\\users\\basuru yasaruwan\\contacts\\desktop\\ipcv practicals\\practical 03\\im02\\lib\\site-packages (from matplotlib) (4.48.1)\n",
      "Requirement already satisfied: kiwisolver>=1.3.1 in c:\\users\\basuru yasaruwan\\contacts\\desktop\\ipcv practicals\\practical 03\\im02\\lib\\site-packages (from matplotlib) (1.4.5)\n",
      "Requirement already satisfied: numpy<2,>=1.21 in c:\\users\\basuru yasaruwan\\contacts\\desktop\\ipcv practicals\\practical 03\\im02\\lib\\site-packages (from matplotlib) (1.26.4)\n",
      "Requirement already satisfied: packaging>=20.0 in c:\\users\\basuru yasaruwan\\contacts\\desktop\\ipcv practicals\\practical 03\\im02\\lib\\site-packages (from matplotlib) (23.2)\n",
      "Requirement already satisfied: pillow>=8 in c:\\users\\basuru yasaruwan\\contacts\\desktop\\ipcv practicals\\practical 03\\im02\\lib\\site-packages (from matplotlib) (10.2.0)\n",
      "Requirement already satisfied: pyparsing>=2.3.1 in c:\\users\\basuru yasaruwan\\contacts\\desktop\\ipcv practicals\\practical 03\\im02\\lib\\site-packages (from matplotlib) (3.1.1)\n",
      "Requirement already satisfied: python-dateutil>=2.7 in c:\\users\\basuru yasaruwan\\contacts\\desktop\\ipcv practicals\\practical 03\\im02\\lib\\site-packages (from matplotlib) (2.8.2)\n",
      "Requirement already satisfied: six>=1.5 in c:\\users\\basuru yasaruwan\\contacts\\desktop\\ipcv practicals\\practical 03\\im02\\lib\\site-packages (from python-dateutil>=2.7->matplotlib) (1.16.0)\n",
      "Note: you may need to restart the kernel to use updated packages.\n"
     ]
    },
    {
     "name": "stderr",
     "output_type": "stream",
     "text": [
      "\n",
      "[notice] A new release of pip is available: 23.2.1 -> 24.0\n",
      "[notice] To update, run: C:\\Users\\Basuru Yasaruwan\\Contacts\\Desktop\\IPCV Practicals\\Practical 03\\IM02\\Scripts\\python.exe -m pip install --upgrade pip\n"
     ]
    }
   ],
   "source": [
    "pip install matplotlib"
   ]
  },
  {
   "cell_type": "code",
   "execution_count": 11,
   "id": "cbce79a4",
   "metadata": {},
   "outputs": [
    {
     "name": "stdout",
     "output_type": "stream",
     "text": [
      "Collecting kaggle\n",
      "  Downloading kaggle-1.6.5.tar.gz (84 kB)\n",
      "     ---------------------------------------- 0.0/84.5 kB ? eta -:--:--\n",
      "     ---- ----------------------------------- 10.2/84.5 kB ? eta -:--:--\n",
      "     ------------- ------------------------ 30.7/84.5 kB 660.6 kB/s eta 0:00:01\n",
      "     ------------------ ------------------- 41.0/84.5 kB 393.8 kB/s eta 0:00:01\n",
      "     -------------------------------------- 84.5/84.5 kB 681.5 kB/s eta 0:00:00\n",
      "  Preparing metadata (setup.py): started\n",
      "  Preparing metadata (setup.py): finished with status 'done'\n",
      "Requirement already satisfied: six>=1.10 in c:\\users\\basuru yasaruwan\\contacts\\desktop\\ipcv practicals\\practical 03\\im02\\lib\\site-packages (from kaggle) (1.16.0)\n",
      "Requirement already satisfied: certifi in c:\\users\\basuru yasaruwan\\contacts\\desktop\\ipcv practicals\\practical 03\\im02\\lib\\site-packages (from kaggle) (2024.2.2)\n",
      "Requirement already satisfied: python-dateutil in c:\\users\\basuru yasaruwan\\contacts\\desktop\\ipcv practicals\\practical 03\\im02\\lib\\site-packages (from kaggle) (2.8.2)\n",
      "Requirement already satisfied: requests in c:\\users\\basuru yasaruwan\\contacts\\desktop\\ipcv practicals\\practical 03\\im02\\lib\\site-packages (from kaggle) (2.31.0)\n",
      "Collecting tqdm (from kaggle)\n",
      "  Obtaining dependency information for tqdm from https://files.pythonhosted.org/packages/2a/14/e75e52d521442e2fcc9f1df3c5e456aead034203d4797867980de558ab34/tqdm-4.66.2-py3-none-any.whl.metadata\n",
      "  Downloading tqdm-4.66.2-py3-none-any.whl.metadata (57 kB)\n",
      "     ---------------------------------------- 0.0/57.6 kB ? eta -:--:--\n",
      "     ---------------------------------------- 57.6/57.6 kB 3.2 MB/s eta 0:00:00\n",
      "Collecting python-slugify (from kaggle)\n",
      "  Obtaining dependency information for python-slugify from https://files.pythonhosted.org/packages/a4/62/02da182e544a51a5c3ccf4b03ab79df279f9c60c5e82d5e8bec7ca26ac11/python_slugify-8.0.4-py2.py3-none-any.whl.metadata\n",
      "  Downloading python_slugify-8.0.4-py2.py3-none-any.whl.metadata (8.5 kB)\n",
      "Requirement already satisfied: urllib3 in c:\\users\\basuru yasaruwan\\contacts\\desktop\\ipcv practicals\\practical 03\\im02\\lib\\site-packages (from kaggle) (2.2.0)\n",
      "Collecting bleach (from kaggle)\n",
      "  Obtaining dependency information for bleach from https://files.pythonhosted.org/packages/ea/63/da7237f805089ecc28a3f36bca6a21c31fcbc2eb380f3b8f1be3312abd14/bleach-6.1.0-py3-none-any.whl.metadata\n",
      "  Downloading bleach-6.1.0-py3-none-any.whl.metadata (30 kB)\n",
      "Collecting webencodings (from bleach->kaggle)\n",
      "  Downloading webencodings-0.5.1-py2.py3-none-any.whl (11 kB)\n",
      "Collecting text-unidecode>=1.3 (from python-slugify->kaggle)\n",
      "  Downloading text_unidecode-1.3-py2.py3-none-any.whl (78 kB)\n",
      "     ---------------------------------------- 0.0/78.2 kB ? eta -:--:--\n",
      "     ---------------------------------------- 78.2/78.2 kB 2.1 MB/s eta 0:00:00\n",
      "Requirement already satisfied: charset-normalizer<4,>=2 in c:\\users\\basuru yasaruwan\\contacts\\desktop\\ipcv practicals\\practical 03\\im02\\lib\\site-packages (from requests->kaggle) (3.3.2)\n",
      "Requirement already satisfied: idna<4,>=2.5 in c:\\users\\basuru yasaruwan\\contacts\\desktop\\ipcv practicals\\practical 03\\im02\\lib\\site-packages (from requests->kaggle) (3.6)\n",
      "Requirement already satisfied: colorama in c:\\users\\basuru yasaruwan\\contacts\\desktop\\ipcv practicals\\practical 03\\im02\\lib\\site-packages (from tqdm->kaggle) (0.4.6)\n",
      "Downloading bleach-6.1.0-py3-none-any.whl (162 kB)\n",
      "   ---------------------------------------- 0.0/162.8 kB ? eta -:--:--\n",
      "   --------------------------- ------------ 112.6/162.8 kB 3.3 MB/s eta 0:00:01\n",
      "   ---------------------------------------- 162.8/162.8 kB 1.6 MB/s eta 0:00:00\n",
      "Downloading python_slugify-8.0.4-py2.py3-none-any.whl (10 kB)\n",
      "Downloading tqdm-4.66.2-py3-none-any.whl (78 kB)\n",
      "   ---------------------------------------- 0.0/78.3 kB ? eta -:--:--\n",
      "   ------------------------------- -------- 61.4/78.3 kB 3.2 MB/s eta 0:00:01\n",
      "   ---------------------------------------- 78.3/78.3 kB 2.2 MB/s eta 0:00:00\n",
      "Building wheels for collected packages: kaggle\n",
      "  Building wheel for kaggle (setup.py): started\n",
      "  Building wheel for kaggle (setup.py): finished with status 'done'\n",
      "  Created wheel for kaggle: filename=kaggle-1.6.5-py3-none-any.whl size=111944 sha256=43912352148e62cbf3e2a39ef6c15e503ede84c680aed137b01acc569fae3e35\n",
      "  Stored in directory: c:\\users\\basuru yasaruwan\\appdata\\local\\pip\\cache\\wheels\\f9\\e6\\2d\\7fd3baa2ea8663ec6f6a713e1623cd265f2f3173a1050504af\n",
      "Successfully built kaggle\n",
      "Installing collected packages: webencodings, text-unidecode, tqdm, python-slugify, bleach, kaggle\n",
      "Successfully installed bleach-6.1.0 kaggle-1.6.5 python-slugify-8.0.4 text-unidecode-1.3 tqdm-4.66.2 webencodings-0.5.1\n",
      "Note: you may need to restart the kernel to use updated packages.\n"
     ]
    },
    {
     "name": "stderr",
     "output_type": "stream",
     "text": [
      "\n",
      "[notice] A new release of pip is available: 23.2.1 -> 24.0\n",
      "[notice] To update, run: C:\\Users\\Basuru Yasaruwan\\Contacts\\Desktop\\IPCV Practicals\\Practical 03\\IM02\\Scripts\\python.exe -m pip install --upgrade pip\n"
     ]
    }
   ],
   "source": [
    "pip install kaggle"
   ]
  },
  {
   "cell_type": "code",
   "execution_count": 1,
   "id": "aa2606b8",
   "metadata": {},
   "outputs": [
    {
     "name": "stdout",
     "output_type": "stream",
     "text": [
      "WARNING:tensorflow:From C:\\Users\\Basuru Yasaruwan\\Contacts\\Desktop\\IPCV Practicals\\Practical 03\\IM02\\Lib\\site-packages\\keras\\src\\losses.py:2976: The name tf.losses.sparse_softmax_cross_entropy is deprecated. Please use tf.compat.v1.losses.sparse_softmax_cross_entropy instead.\n",
      "\n"
     ]
    }
   ],
   "source": [
    "from tensorflow import keras"
   ]
  },
  {
   "cell_type": "code",
   "execution_count": 2,
   "id": "ff2bad6c",
   "metadata": {},
   "outputs": [],
   "source": [
    "from keras.layers import Input, Lambda, Dense, Flatten"
   ]
  },
  {
   "cell_type": "code",
   "execution_count": 3,
   "id": "78896d78",
   "metadata": {},
   "outputs": [],
   "source": [
    "from keras.models import Model\n",
    "from keras.applications.vgg16 import VGG16\n",
    "from keras.applications.vgg16 import preprocess_input\n",
    "from keras.preprocessing import image\n",
    "from keras.preprocessing.image import ImageDataGenerator\n",
    "from keras.models import Sequential\n",
    "import numpy as np\n",
    "from glob import glob\n",
    "import matplotlib.pyplot as plt"
   ]
  },
  {
   "cell_type": "code",
   "execution_count": 4,
   "id": "920b0f3b",
   "metadata": {},
   "outputs": [
    {
     "name": "stdout",
     "output_type": "stream",
     "text": [
      "WARNING:tensorflow:From C:\\Users\\Basuru Yasaruwan\\Contacts\\Desktop\\IPCV Practicals\\Practical 03\\IM02\\Lib\\site-packages\\keras\\src\\backend.py:1398: The name tf.executing_eagerly_outside_functions is deprecated. Please use tf.compat.v1.executing_eagerly_outside_functions instead.\n",
      "\n",
      "WARNING:tensorflow:From C:\\Users\\Basuru Yasaruwan\\Contacts\\Desktop\\IPCV Practicals\\Practical 03\\IM02\\Lib\\site-packages\\keras\\src\\layers\\pooling\\max_pooling2d.py:161: The name tf.nn.max_pool is deprecated. Please use tf.nn.max_pool2d instead.\n",
      "\n"
     ]
    }
   ],
   "source": [
    "vgg = VGG16(input_shape=(224,224,3), weights='imagenet', include_top=False)\n",
    "# disreguard the final fully connected layer, which does the classification. We do this, in situations, if we need to customize\n",
    "# the final outputs. Usually, VGG 16 has close to 1000 output classes. But here for pneumonia prediction we need only two classes\n",
    "# as positive and negative.\n",
    "\n",
    "# we use this strategy for situations, where we need the embeddings generated from the model to be plugged with another\n",
    "# customized requirements."
   ]
  },
  {
   "cell_type": "code",
   "execution_count": 5,
   "id": "b8157321",
   "metadata": {},
   "outputs": [],
   "source": [
    "# prevent weights adjustments of the VGG modle during the training procedure. So it will have the pretrained imagenet weights.\n",
    "for layer in vgg.layers:\n",
    "    layer.trainable = False"
   ]
  },
  {
   "cell_type": "code",
   "execution_count": 6,
   "id": "78e82ba1",
   "metadata": {},
   "outputs": [],
   "source": [
    "folders = glob(r'C:\\Users\\Basuru Yasaruwan\\Contacts\\Desktop\\IPCV Practicals\\Practical 03\\IM02\\Pneumonia\\train\\*')\n",
    "x = Flatten()(vgg.output) # flatten the embeddings generated to one single tensor, overl the 1000s of tensors output"
   ]
  },
  {
   "cell_type": "code",
   "execution_count": 7,
   "id": "06dcbea5",
   "metadata": {},
   "outputs": [
    {
     "name": "stdout",
     "output_type": "stream",
     "text": [
      "Model: \"model\"\n",
      "_________________________________________________________________\n",
      " Layer (type)                Output Shape              Param #   \n",
      "=================================================================\n",
      " input_1 (InputLayer)        [(None, 224, 224, 3)]     0         \n",
      "                                                                 \n",
      " block1_conv1 (Conv2D)       (None, 224, 224, 64)      1792      \n",
      "                                                                 \n",
      " block1_conv2 (Conv2D)       (None, 224, 224, 64)      36928     \n",
      "                                                                 \n",
      " block1_pool (MaxPooling2D)  (None, 112, 112, 64)      0         \n",
      "                                                                 \n",
      " block2_conv1 (Conv2D)       (None, 112, 112, 128)     73856     \n",
      "                                                                 \n",
      " block2_conv2 (Conv2D)       (None, 112, 112, 128)     147584    \n",
      "                                                                 \n",
      " block2_pool (MaxPooling2D)  (None, 56, 56, 128)       0         \n",
      "                                                                 \n",
      " block3_conv1 (Conv2D)       (None, 56, 56, 256)       295168    \n",
      "                                                                 \n",
      " block3_conv2 (Conv2D)       (None, 56, 56, 256)       590080    \n",
      "                                                                 \n",
      " block3_conv3 (Conv2D)       (None, 56, 56, 256)       590080    \n",
      "                                                                 \n",
      " block3_pool (MaxPooling2D)  (None, 28, 28, 256)       0         \n",
      "                                                                 \n",
      " block4_conv1 (Conv2D)       (None, 28, 28, 512)       1180160   \n",
      "                                                                 \n",
      " block4_conv2 (Conv2D)       (None, 28, 28, 512)       2359808   \n",
      "                                                                 \n",
      " block4_conv3 (Conv2D)       (None, 28, 28, 512)       2359808   \n",
      "                                                                 \n",
      " block4_pool (MaxPooling2D)  (None, 14, 14, 512)       0         \n",
      "                                                                 \n",
      " block5_conv1 (Conv2D)       (None, 14, 14, 512)       2359808   \n",
      "                                                                 \n",
      " block5_conv2 (Conv2D)       (None, 14, 14, 512)       2359808   \n",
      "                                                                 \n",
      " block5_conv3 (Conv2D)       (None, 14, 14, 512)       2359808   \n",
      "                                                                 \n",
      " block5_pool (MaxPooling2D)  (None, 7, 7, 512)         0         \n",
      "                                                                 \n",
      " flatten (Flatten)           (None, 25088)             0         \n",
      "                                                                 \n",
      " dense (Dense)               (None, 2)                 50178     \n",
      "                                                                 \n",
      "=================================================================\n",
      "Total params: 14764866 (56.32 MB)\n",
      "Trainable params: 50178 (196.01 KB)\n",
      "Non-trainable params: 14714688 (56.13 MB)\n",
      "_________________________________________________________________\n"
     ]
    }
   ],
   "source": [
    "# use the derived flattened tensor and re-use it to create a custom and trainable dense layer for us to get the binary class\n",
    "# output we need as penumonia positive / negative. Hence it`s binary classed, we can use softmax either.\n",
    "prediction = Dense(len(folders), activation='softmax')(x)\n",
    "# create a model object\n",
    "model = Model(inputs=vgg.input, outputs=prediction)\n",
    "# view the structure of the model\n",
    "model.summary()"
   ]
  },
  {
   "cell_type": "code",
   "execution_count": 8,
   "id": "89f207b4",
   "metadata": {},
   "outputs": [
    {
     "name": "stdout",
     "output_type": "stream",
     "text": [
      "WARNING:tensorflow:From C:\\Users\\Basuru Yasaruwan\\Contacts\\Desktop\\IPCV Practicals\\Practical 03\\IM02\\Lib\\site-packages\\keras\\src\\optimizers\\__init__.py:309: The name tf.train.Optimizer is deprecated. Please use tf.compat.v1.train.Optimizer instead.\n",
      "\n"
     ]
    }
   ],
   "source": [
    "# configure the back prop pipiline\n",
    "model.compile(\n",
    "  loss='categorical_crossentropy',\n",
    "  optimizer='adam',\n",
    "  metrics=['accuracy']\n",
    ")"
   ]
  },
  {
   "cell_type": "code",
   "execution_count": 9,
   "id": "05cbd93c",
   "metadata": {},
   "outputs": [],
   "source": [
    "# used for the image augmentation process.\n",
    "from keras.preprocessing.image import ImageDataGenerator"
   ]
  },
  {
   "cell_type": "code",
   "execution_count": 10,
   "id": "9025d722",
   "metadata": {},
   "outputs": [
    {
     "name": "stdout",
     "output_type": "stream",
     "text": [
      "Found 5216 images belonging to 2 classes.\n",
      "Found 624 images belonging to 2 classes.\n"
     ]
    }
   ],
   "source": [
    "# augmentation pipeline\n",
    "train_datagen = ImageDataGenerator(rescale = 1./255,\n",
    "                                   shear_range = 0.2,\n",
    "                                   zoom_range = 0.2,\n",
    "                                   horizontal_flip = True)\n",
    "\n",
    "test_datagen = ImageDataGenerator(rescale = 1./255)\n",
    "\n",
    "\n",
    "\n",
    "\n",
    "# Make sure you provide the same target size as initialied for the image size\n",
    "# batch size means, size of images you take from the dataset for one backprop training.\n",
    "# one epoc has multiple batches. Untill the dataset size is reached , batches are taken inside the given epoc.\n",
    "# once the entire datset is taken inside, first epoc will be completed. Then repeat the same process for the other epocs as well\n",
    "training_set = train_datagen.flow_from_directory(r'C:\\Users\\Basuru Yasaruwan\\Contacts\\Desktop\\IPCV Practicals\\Practical 03\\IM02\\Pneumonia\\train',\n",
    "                                                 target_size = (224, 224),\n",
    "                                                 batch_size = 10,\n",
    "                                                 class_mode = 'categorical')\n",
    "\n",
    "\n",
    "\n",
    "\n",
    "test_set = test_datagen.flow_from_directory(r'C:\\Users\\Basuru Yasaruwan\\Contacts\\Desktop\\IPCV Practicals\\Practical 03\\IM02\\Pneumonia\\test',\n",
    "                                            target_size = (224, 224),\n",
    "                                            batch_size = 10,\n",
    "                                            class_mode = 'categorical')"
   ]
  },
  {
   "cell_type": "code",
   "execution_count": 11,
   "id": "062c9c03",
   "metadata": {},
   "outputs": [
    {
     "name": "stderr",
     "output_type": "stream",
     "text": [
      "C:\\Users\\Basuru Yasaruwan\\AppData\\Local\\Temp\\ipykernel_21200\\1971581542.py:2: UserWarning: `Model.fit_generator` is deprecated and will be removed in a future version. Please use `Model.fit`, which supports generators.\n",
      "  r = model.fit_generator(\n"
     ]
    },
    {
     "name": "stdout",
     "output_type": "stream",
     "text": [
      "WARNING:tensorflow:From C:\\Users\\Basuru Yasaruwan\\Contacts\\Desktop\\IPCV Practicals\\Practical 03\\IM02\\Lib\\site-packages\\keras\\src\\utils\\tf_utils.py:492: The name tf.ragged.RaggedTensorValue is deprecated. Please use tf.compat.v1.ragged.RaggedTensorValue instead.\n",
      "\n",
      "WARNING:tensorflow:From C:\\Users\\Basuru Yasaruwan\\Contacts\\Desktop\\IPCV Practicals\\Practical 03\\IM02\\Lib\\site-packages\\keras\\src\\engine\\base_layer_utils.py:384: The name tf.executing_eagerly_outside_functions is deprecated. Please use tf.compat.v1.executing_eagerly_outside_functions instead.\n",
      "\n",
      "522/522 [==============================] - 377s 720ms/step - loss: 0.2249 - accuracy: 0.9206 - val_loss: 0.3606 - val_accuracy: 0.9054\n"
     ]
    }
   ],
   "source": [
    "# training procedure\n",
    "r = model.fit_generator(\n",
    "  training_set,\n",
    "  validation_data=test_set,\n",
    "  epochs=1,\n",
    "  steps_per_epoch=len(training_set),\n",
    "  validation_steps=len(test_set)\n",
    ")"
   ]
  },
  {
   "cell_type": "code",
   "execution_count": 12,
   "id": "acfae90e",
   "metadata": {},
   "outputs": [
    {
     "name": "stderr",
     "output_type": "stream",
     "text": [
      "C:\\Users\\Basuru Yasaruwan\\Contacts\\Desktop\\IPCV Practicals\\Practical 03\\IM02\\Lib\\site-packages\\keras\\src\\engine\\training.py:3103: UserWarning: You are saving your model as an HDF5 file via `model.save()`. This file format is considered legacy. We recommend using instead the native Keras format, e.g. `model.save('my_model.keras')`.\n",
      "  saving_api.save_model(\n"
     ]
    }
   ],
   "source": [
    "import tensorflow as tf\n",
    "from keras.models import load_model\n",
    "\n",
    "model.save(r'C:\\Users\\Basuru Yasaruwan\\Contacts\\Desktop\\IPCV Practicals\\Practical 03\\IM02\\chest_xray.h5') # save the trained modle"
   ]
  },
  {
   "cell_type": "code",
   "execution_count": 13,
   "id": "e9f46e07",
   "metadata": {},
   "outputs": [],
   "source": [
    "from keras.models import load_model"
   ]
  },
  {
   "cell_type": "code",
   "execution_count": 14,
   "id": "9a33951d",
   "metadata": {},
   "outputs": [],
   "source": [
    "from keras.preprocessing import image"
   ]
  },
  {
   "cell_type": "code",
   "execution_count": 15,
   "id": "ce57aeee",
   "metadata": {},
   "outputs": [],
   "source": [
    "from keras.applications.vgg16 import preprocess_input # import the model`s skeleton"
   ]
  },
  {
   "cell_type": "code",
   "execution_count": 16,
   "id": "ed7f5f89",
   "metadata": {},
   "outputs": [],
   "source": [
    "import numpy as np"
   ]
  },
  {
   "cell_type": "code",
   "execution_count": 17,
   "id": "9be83c9d",
   "metadata": {},
   "outputs": [],
   "source": [
    "model=load_model(r'C:\\Users\\Basuru Yasaruwan\\Contacts\\Desktop\\IPCV Practicals\\Practical 03\\IM02\\chest_xray.h5')"
   ]
  },
  {
   "cell_type": "code",
   "execution_count": 18,
   "id": "9487924d",
   "metadata": {},
   "outputs": [],
   "source": [
    "#load the test image\n",
    "#tf.keras.utils.load_img\n",
    "img=tf.keras.utils.load_img(r'C:\\Users\\Basuru Yasaruwan\\Contacts\\Desktop\\IPCV Practicals\\Practical 03\\IM02\\Pneumonia\\test\\NORMAL\\IM-0009-0001.jpeg',target_size=(224,224))\n",
    "\n",
    "x=tf.keras.preprocessing.image.img_to_array(img) # image as a numpy array\n",
    "\n",
    "x=np.expand_dims(x, axis=0)\n",
    "\n",
    "img_data=preprocess_input(x) # organize for the prediction"
   ]
  },
  {
   "cell_type": "code",
   "execution_count": 19,
   "id": "a31d440a",
   "metadata": {},
   "outputs": [
    {
     "name": "stdout",
     "output_type": "stream",
     "text": [
      "1/1 [==============================] - 0s 235ms/step\n"
     ]
    }
   ],
   "source": [
    "classes=model.predict(img_data)"
   ]
  },
  {
   "cell_type": "code",
   "execution_count": 20,
   "id": "2061a395",
   "metadata": {},
   "outputs": [],
   "source": [
    "result=int(classes[0][0])"
   ]
  },
  {
   "cell_type": "code",
   "execution_count": 21,
   "id": "64414e07",
   "metadata": {},
   "outputs": [
    {
     "name": "stdout",
     "output_type": "stream",
     "text": [
      "Result is Normal\n"
     ]
    }
   ],
   "source": [
    "if result== 0:\n",
    "    print(\"Person is Affected By PNEUMONIA\")\n",
    "else:\n",
    "    print(\"Result is Normal\")"
   ]
  }
 ],
 "metadata": {
  "kernelspec": {
   "display_name": "IM02",
   "language": "python",
   "name": "im02"
  },
  "language_info": {
   "codemirror_mode": {
    "name": "ipython",
    "version": 3
   },
   "file_extension": ".py",
   "mimetype": "text/x-python",
   "name": "python",
   "nbconvert_exporter": "python",
   "pygments_lexer": "ipython3",
   "version": "3.11.8"
  }
 },
 "nbformat": 4,
 "nbformat_minor": 5
}
