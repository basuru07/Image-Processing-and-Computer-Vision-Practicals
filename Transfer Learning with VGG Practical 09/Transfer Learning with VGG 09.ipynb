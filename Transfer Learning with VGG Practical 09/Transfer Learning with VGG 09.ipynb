{
 "cells": [
  {
   "cell_type": "code",
   "execution_count": 1,
   "id": "5ac871f3",
   "metadata": {},
   "outputs": [
    {
     "name": "stdout",
     "output_type": "stream",
     "text": [
      "WARNING:tensorflow:From C:\\Users\\Basuru Yasaruwan\\Contacts\\Desktop\\IPCV Practicals\\Practical 03\\IM02\\Lib\\site-packages\\keras\\src\\losses.py:2976: The name tf.losses.sparse_softmax_cross_entropy is deprecated. Please use tf.compat.v1.losses.sparse_softmax_cross_entropy instead.\n",
      "\n"
     ]
    }
   ],
   "source": [
    "from keras.layers import Input, Lambda, Dense, Flatten\n",
    "from keras.models import Model\n",
    "from keras.applications.vgg16 import VGG16\n",
    "from keras.applications.vgg16 import preprocess_input\n",
    "from keras.preprocessing import image\n",
    "from keras.preprocessing.image import ImageDataGenerator\n",
    "from keras.models import Sequential\n",
    "import numpy as np\n",
    "from glob import glob\n",
    "import matplotlib.pyplot as plt\n",
    "import numpy as np\n",
    "\n",
    "# to overcome too many unnesessary warning\n",
    "import warnings\n",
    "warnings.filterwarnings(\"ignore\", category=FutureWarning)"
   ]
  },
  {
   "cell_type": "code",
   "execution_count": 2,
   "id": "7c9251f8",
   "metadata": {},
   "outputs": [],
   "source": [
    "IMAGE_SIZE = [224, 224]\n",
    "# in transfer leraning, you need to change both the input (i.e. image size & resolution) and the \n",
    "#output layers (i.e. to suite with the count of classes to be predicted). In between layers and weights \n",
    "#can be kept as trained from imagenet or other popular weights file"
   ]
  },
  {
   "cell_type": "code",
   "execution_count": null,
   "id": "ddd7fec3",
   "metadata": {},
   "outputs": [],
   "source": [
    "#Give dataset path\n",
    "train_path = 'C:/Users/kaneekav/PycharmProjects/VGG/dataset/train/'\n",
    "test_path = 'C:/Users/kaneekav/PycharmProjects/VGG/dataset/test/'"
   ]
  },
  {
   "cell_type": "code",
   "execution_count": null,
   "id": "c8001086",
   "metadata": {},
   "outputs": [],
   "source": [
    "from PIL import Image \n",
    "import os \n",
    "from IPython.display import display\n",
    "from IPython.display import Image as _Imgdis\n",
    "# creating a object  \n",
    "\n",
    "# filter only for bening images of skin cancer dataset  \n",
    "folder = train_path+'/benign'\n",
    "\n",
    "# display only the bening folder data\n",
    "onlybenignfiles = [f for f in os.listdir(folder) if os.path.isfile(os.path.join(folder, f))]\n",
    "print(\"Working with {0} images\".format(len(onlybenignfiles)))\n",
    "print(\"Image examples: \")\n",
    "\n",
    "\n",
    "for i in range(10):\n",
    "    print(onlybenignfiles[i])\n",
    "    display(_Imgdis(filename=folder + \"/\" + onlybenignfiles[i], width=240, height=240))"
   ]
  },
  {
   "cell_type": "code",
   "execution_count": null,
   "id": "d0be96fb",
   "metadata": {},
   "outputs": [],
   "source": [
    "vgg = VGG16(input_shape=IMAGE_SIZE + [3], weights='imagenet', include_top=False)\n",
    "# in above we have defined the image size as 224,224 and it`s rgb there for we pass 3 channels, we re-use imagenet training \n",
    "# weights. Include_top =false depicts, that the original fully connected layer of the VGG-16 is not going to be loaded.\n",
    "# instead, we plan to load our own fully connected layer to recognize maignent and bening classes."
   ]
  },
  {
   "cell_type": "code",
   "execution_count": null,
   "id": "a56e7b73",
   "metadata": {},
   "outputs": [],
   "source": [
    "vgg.input"
   ]
  },
  {
   "cell_type": "code",
   "execution_count": null,
   "id": "d874a197",
   "metadata": {},
   "outputs": [],
   "source": [
    "for layer in vgg.layers:\n",
    "  layer.trainable = False\n",
    "# do not train the vgg layers with new dataset. Keep the imgenet weights as it is. Only, input and ouput layers are altered."
   ]
  },
  {
   "cell_type": "code",
   "execution_count": null,
   "id": "b2ef4884",
   "metadata": {},
   "outputs": [],
   "source": [
    "folders = glob('C:/Users/kaneekav/PycharmProjects/VGG/dataset/train/*')\n",
    "print(len(folders))"
   ]
  },
  {
   "cell_type": "code",
   "execution_count": null,
   "id": "e1d7faef",
   "metadata": {},
   "outputs": [],
   "source": [
    "x = Flatten()(vgg.output) # this is the custom fully connected layer we are defining. we say, condense it, \n",
    "#just to 2 classes only, as the folders vaiable contains the required class counts\n",
    "prediction = Dense(len(folders), activation='softmax')(x)\n",
    "model = Model(inputs=vgg.input, outputs=prediction) # add the newly created output layer to the VGG model\n",
    "model.summary()"
   ]
  },
  {
   "cell_type": "code",
   "execution_count": null,
   "id": "abe5568d",
   "metadata": {},
   "outputs": [],
   "source": [
    "import tensorflow as tf\n",
    "from tensorflow import keras\n",
    "\n",
    "# keras.optimizers.Adam\n",
    "optimizer = tf.keras.optimizers.Adam()\n",
    "\n",
    "# define accuracy matrices\n",
    "adam = optimizer\n",
    "model.compile(loss='binary_crossentropy',\n",
    "              optimizer=adam,\n",
    "              metrics=['accuracy'])\n",
    "\n",
    "\n",
    "# data augmentation of the skin cancer dataset. will prevent overfitting\n",
    "train_datagen = ImageDataGenerator(\n",
    "    preprocessing_function=preprocess_input,\n",
    "    rotation_range=40,\n",
    "    width_shift_range=0.2,\n",
    "    height_shift_range=0.2,\n",
    "    shear_range=0.2,\n",
    "    zoom_range=0.2,\n",
    "    horizontal_flip=True,\n",
    "    fill_mode='nearest')\n",
    "\n",
    "test_datagen = ImageDataGenerator(\n",
    "    preprocessing_function=preprocess_input,\n",
    "    rotation_range=40,\n",
    "    width_shift_range=0.2,\n",
    "    height_shift_range=0.2,\n",
    "    shear_range=0.2,\n",
    "    zoom_range=0.2,\n",
    "    horizontal_flip=True,\n",
    "    fill_mode='nearest')\n",
    "\n",
    "train_set = train_datagen.flow_from_directory(train_path,\n",
    "                                                 target_size = (224, 224),\n",
    "                                                 batch_size = 32,\n",
    "                                                 class_mode = 'categorical')\n",
    "\n",
    "\n",
    "test_set = test_datagen.flow_from_directory(test_path,\n",
    "                                            target_size = (224, 224),\n",
    "                                            batch_size = 32,\n",
    "                                            class_mode = 'categorical')\n"
   ]
  },
  {
   "cell_type": "code",
   "execution_count": null,
   "id": "abe27489",
   "metadata": {},
   "outputs": [],
   "source": [
    "from datetime import datetime\n",
    "from keras.callbacks import ModelCheckpoint\n",
    "\n",
    "# model check points allows to select and save the best model resulted during the epocs\n",
    "\n",
    "checkpoint = ModelCheckpoint(filepath='mymodel.h5', \n",
    "                               verbose=2, save_best_only=True)\n",
    "\n",
    "callbacks = [checkpoint]\n",
    "\n",
    "start = datetime.now()\n",
    "\n",
    "# model training commences\n",
    "model_history=model.fit_generator(\n",
    "  train_set, # augmented training dataset\n",
    "  validation_data=test_set,\n",
    "  epochs=10,\n",
    "  steps_per_epoch=5,\n",
    "  validation_steps=32,\n",
    "    callbacks=callbacks ,verbose=2)\n",
    "\n",
    "\n",
    "duration = datetime.now() - start\n",
    "print(\"Training completed in time: \", duration)"
   ]
  },
  {
   "cell_type": "code",
   "execution_count": null,
   "id": "e4733b4d",
   "metadata": {},
   "outputs": [],
   "source": [
    "from tensorflow.keras.preprocessing import image\n",
    "from tensorflow.keras.applications.vgg16 import decode_predictions\n",
    "import numpy as np\n",
    "img_pth=\"C:/Users/kaneekav/PycharmProjects/VGG/benigh.jpg\"\n",
    "img=image.load_img(img_pth,color_mode='rgb', target_size=(224,224))\n",
    "display(img)"
   ]
  },
  {
   "cell_type": "code",
   "execution_count": null,
   "id": "cee312f7",
   "metadata": {},
   "outputs": [],
   "source": [
    "x=image.img_to_array(img)\n",
    "x.shape"
   ]
  },
  {
   "cell_type": "code",
   "execution_count": null,
   "id": "d37b8e68",
   "metadata": {},
   "outputs": [],
   "source": [
    "x=np.expand_dims(x,axis=0)"
   ]
  },
  {
   "cell_type": "code",
   "execution_count": null,
   "id": "ec0795cb",
   "metadata": {},
   "outputs": [],
   "source": [
    "x.shape"
   ]
  },
  {
   "cell_type": "code",
   "execution_count": null,
   "id": "24fb7476",
   "metadata": {},
   "outputs": [],
   "source": [
    "x=preprocess_input(x)\n",
    "# features=model.predict(x)\n",
    "# p=decode_predictions(features)\n",
    "print(x.shape)"
   ]
  },
  {
   "cell_type": "code",
   "execution_count": null,
   "id": "842df5dc",
   "metadata": {},
   "outputs": [],
   "source": [
    "features=model.predict(x)\n",
    "print(features)"
   ]
  },
  {
   "cell_type": "code",
   "execution_count": null,
   "id": "c57929e2",
   "metadata": {},
   "outputs": [],
   "source": [
    "# Plot training & validation loss values\n",
    "plt.plot(model_history.history['accuracy'])\n",
    "plt.plot(model_history.history['val_accuracy'])\n",
    "plt.title('CNN Model accuracy values')\n",
    "plt.ylabel('Accuracy')\n",
    "plt.xlabel('Epoch')\n",
    "plt.legend(['Train', 'Test'], loc='upper left')\n",
    "plt.show()"
   ]
  }
 ],
 "metadata": {
  "kernelspec": {
   "display_name": "IM02",
   "language": "python",
   "name": "im02"
  },
  "language_info": {
   "codemirror_mode": {
    "name": "ipython",
    "version": 3
   },
   "file_extension": ".py",
   "mimetype": "text/x-python",
   "name": "python",
   "nbconvert_exporter": "python",
   "pygments_lexer": "ipython3",
   "version": "3.11.9"
  }
 },
 "nbformat": 4,
 "nbformat_minor": 5
}
